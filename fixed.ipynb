{
 "cells": [
  {
   "cell_type": "code",
   "execution_count": null,
   "id": "982ba0f7",
   "metadata": {},
   "outputs": [],
   "source": [
    "from transformers import pipeline\n",
    "\n",
    "# Initialize the summarizer\n",
    "summarizer = pipeline(\"summarization\")\n",
    "\n",
    "# Your paragraph to summarize\n",
    "paragraph = \"\"\"Transformers provide a simple, efficient, and powerful way to perform NLP tasks like summarization, translation, and more. The Hugging Face library makes it easy to use state-of-the-art pre-trained models.\"\"\"\n",
    "\n",
    "# Generate the summary\n",
    "summary = summarizer(paragraph, max_length=50, min_length=25, do_sample=False)\n",
    "\n",
    "# Print the results\n",
    "print(\"Original Paragraph:\\n\", paragraph)\n",
    "print(\"\\nSummarized Paragraph:\\n\", summary[0]['summary_text'])"
   ]
  }
 ],
 "metadata": {},
 "nbformat": 4,
 "nbformat_minor": 5
}
