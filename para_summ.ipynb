#pip install transformers
#pip install torch

from transformers import pipeline

# Initialize the Hugging Face transformer pipeline for summarization
summarizer = pipeline("summarization")

# Input paragraph
paragraph = """
The quick brown fox jumps over the lazy dog. It is often used to demonstrate the quickness of animals and their agility. 
In many contexts, the phrase is utilized as a typing exercise because it contains all the letters of the English alphabet. 
The phrase itself seems trivial at first glance, but it has a historical and functional importance in a variety of fields such as 
typography and language studies. The versatility of the phrase makes it an essential part of learning different skills.
"""

# Generate the summary
summary = summarizer(paragraph, max_length=50, min_length=25, do_sample=False)

# Output the summary
print("Original Paragraph:\n", paragraph)
print("\nSummarized Paragraph:\n", summary[0]['summary_text'])


