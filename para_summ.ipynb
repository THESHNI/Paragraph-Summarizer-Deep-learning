from transformers import pipeline

summarizer = pipeline("summarization")


paragraph = """
The quick brown fox jumps over the lazy dog. It is often used to demonstrate the quickness of animals and their agility. 
In many contexts, the phrase is utilized as a typing exercise because it contains all the letters of the English alphabet. 
The phrase itself seems trivial at first glance, but it has a historical and functional importance in a variety of fields such as 
typography and language studies. The versatility of the phrase makes it an essential part of learning different skills.
"""


summary = summarizer(paragraph, max_length=50, min_length=25, do_sample=False)


print("Original Paragraph:\n", paragraph)
print("\nSummarized Paragraph:\n", summary[0]['summary_text'])


